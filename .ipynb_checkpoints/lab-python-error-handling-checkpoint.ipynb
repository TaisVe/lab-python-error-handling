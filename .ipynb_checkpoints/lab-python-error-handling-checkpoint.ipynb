{
 "cells": [
  {
   "cell_type": "markdown",
   "id": "25d7736c-ba17-4aff-b6bb-66eba20fbf4e",
   "metadata": {},
   "source": [
    "# Lab | Error Handling"
   ]
  },
  {
   "cell_type": "markdown",
   "id": "bc99b386-7508-47a0-bcdb-d969deaf6c8b",
   "metadata": {},
   "source": [
    "## Exercise: Error Handling for Managing Customer Orders\n",
    "\n",
    "The implementation of your code for managing customer orders assumes that the user will always enter a valid input. \n",
    "\n",
    "For example, we could modify the `initialize_inventory` function to include error handling.\n",
    "   - If the user enters an invalid quantity (e.g., a negative value or a non-numeric value), display an error message and ask them to re-enter the quantity for that product.\n",
    "   - Use a try-except block to handle the error and continue prompting the user until a valid quantity is entered.\n",
    "\n",
    "```python\n",
    "# Step 1: Define the function for initializing the inventory with error handling\n",
    "def initialize_inventory(products):\n",
    "    inventory = {}\n",
    "    for product in products:\n",
    "        valid_quantity = False\n",
    "        while not valid_quantity:\n",
    "            try:\n",
    "                quantity = int(input(f\"Enter the quantity of {product}s available: \"))\n",
    "                if quantity < 0:\n",
    "                    raise ValueError(\"Invalid quantity! Please enter a non-negative value.\")\n",
    "                valid_quantity = True\n",
    "            except ValueError as error:\n",
    "                print(f\"Error: {error}\")\n",
    "        inventory[product] = quantity\n",
    "    return inventory\n",
    "\n",
    "# Or, in another way:\n",
    "\n",
    "def initialize_inventory(products):\n",
    "    inventory = {}\n",
    "    for product in products:\n",
    "        valid_input = False\n",
    "        while not valid_input:\n",
    "            try:\n",
    "                quantity = int(input(f\"Enter the quantity of {product}s available: \"))\n",
    "                if quantity >= 0:\n",
    "                    inventory[product] = quantity\n",
    "                    valid_input = True\n",
    "                else:\n",
    "                    print(\"Quantity cannot be negative. Please enter a valid quantity.\")\n",
    "            except ValueError:\n",
    "                print(\"Invalid input. Please enter a valid quantity.\")\n",
    "    return inventory\n",
    "```\n",
    "\n",
    "Let's enhance your code by implementing error handling to handle invalid inputs.\n",
    "\n",
    "Follow the steps below to complete the exercise:\n",
    "\n",
    "2. Modify the `calculate_total_price` function to include error handling.\n",
    "   - If the user enters an invalid price (e.g., a negative value or a non-numeric value), display an error message and ask them to re-enter the price for that product.\n",
    "   - Use a try-except block to handle the error and continue prompting the user until a valid price is entered.\n",
    "\n",
    "3. Modify the `get_customer_orders` function to include error handling.\n",
    "   - If the user enters an invalid number of orders (e.g., a negative value or a non-numeric value), display an error message and ask them to re-enter the number of orders.\n",
    "   - If the user enters an invalid product name (e.g., a product name that is not in the inventory), or that doesn't have stock available, display an error message and ask them to re-enter the product name. *Hint: you will need to pass inventory as a parameter*\n",
    "   - Use a try-except block to handle the error and continue prompting the user until a valid product name is entered.\n",
    "\n",
    "4. Test your code by running the program and deliberately entering invalid quantities and product names. Make sure the error handling mechanism works as expected.\n"
   ]
  },
  {
   "cell_type": "code",
   "execution_count": 40,
   "id": "f5f636b0-a733-4241-87fc-22074e6d5f83",
   "metadata": {},
   "outputs": [],
   "source": [
    "def initialize_inventory(products):\n",
    "    inventory = {}\n",
    "    for product in products:\n",
    "        valid_input = False\n",
    "        while not valid_input:\n",
    "            try:\n",
    "                quantity = int(input(f\"Enter the quantity of {product}s available: \"))\n",
    "                if quantity >= 0:\n",
    "                    inventory[product] = quantity\n",
    "                    valid_input = True\n",
    "                else:\n",
    "                    print(\"Quantity cannot be negative. Please enter a valid quantity.\")\n",
    "            except ValueError:\n",
    "                print(\"Invalid input. Please enter a valid quantity.\")\n",
    "    return inventory"
   ]
  },
  {
   "cell_type": "code",
   "execution_count": 41,
   "id": "b5774623-51d8-43f3-aada-e9b043001109",
   "metadata": {},
   "outputs": [
    {
     "name": "stdin",
     "output_type": "stream",
     "text": [
      "Enter the quantity of t-shirts available:  hat\n"
     ]
    },
    {
     "name": "stdout",
     "output_type": "stream",
     "text": [
      "Invalid input. Please enter a valid quantity.\n"
     ]
    },
    {
     "name": "stdin",
     "output_type": "stream",
     "text": [
      "Enter the quantity of t-shirts available:  l\n"
     ]
    },
    {
     "name": "stdout",
     "output_type": "stream",
     "text": [
      "Invalid input. Please enter a valid quantity.\n"
     ]
    },
    {
     "name": "stdin",
     "output_type": "stream",
     "text": [
      "Enter the quantity of t-shirts available:  .\n"
     ]
    },
    {
     "name": "stdout",
     "output_type": "stream",
     "text": [
      "Invalid input. Please enter a valid quantity.\n"
     ]
    },
    {
     "name": "stdin",
     "output_type": "stream",
     "text": [
      "Enter the quantity of t-shirts available:  1\n",
      "Enter the quantity of mugs available:  5\n",
      "Enter the quantity of hats available:  6\n",
      "Enter the quantity of books available:  7\n",
      "Enter the quantity of keychains available:  9\n"
     ]
    }
   ],
   "source": [
    "products=[\"t-shirt\", \"mug\", \"hat\", \"book\", \"keychain\"]\n",
    "inventory=initialize_inventory(products)"
   ]
  },
  {
   "cell_type": "code",
   "execution_count": 42,
   "id": "c433da92-6a12-4b15-aa31-0e9ce50ee3a6",
   "metadata": {},
   "outputs": [],
   "source": [
    "#Modify the calculate_total_price function to include error handling.\n",
    "#If the user enters an invalid price (e.g., a negative value or a non-numeric value), display an error message and ask them to re-enter the price for that product.\n",
    "#Use a try-except block to handle the error and continue prompting the user until a valid price is entered.\n",
    "def calculate_total_price(customer_orders):\n",
    "    t_price={}\n",
    "    for i in customer_orders:\n",
    "        while True:\n",
    "            try:\n",
    "                price=float(input(F\"Enter the price of a {i}:\"))\n",
    "                if price <0:\n",
    "                    print(\"Price cannot be nagtive. Please enter a valid price.\")\n",
    "                else:\n",
    "                    t_price[i]=price\n",
    "                    break\n",
    "            except ValueError:\n",
    "                print(\"Invalid input. Enter a valid price\")\n",
    "    total_price = sum(t_price.values())\n",
    "    print(f\"Total price is:{total_price}\")\n",
    "    return t_price, total_price"
   ]
  },
  {
   "cell_type": "code",
   "execution_count": null,
   "id": "21c58340-183c-43cb-892e-813795e64c36",
   "metadata": {},
   "outputs": [],
   "source": []
  },
  {
   "cell_type": "code",
   "execution_count": 43,
   "id": "4fc72a65-6b4e-4dbc-9e3a-035c9c9bbe80",
   "metadata": {},
   "outputs": [],
   "source": [
    "#Modify the get_customer_orders function to include error handling.\n",
    "#If the user enters an invalid number of orders (e.g., a negative value or a non-numeric value), display an error message and ask them to re-enter the number of orders.\n",
    "#If the user enters an invalid product name (e.g., a product name that is not in the inventory), or that doesn't have stock available, display an error message and ask them to re-enter the product name. Hint: you will need to pass inventory as a parameter\n",
    "#Use a try-except block to handle the error and continue prompting the user until a valid product name is entered.\n",
    "def get_customer_orders():\n",
    "    customer_orders=set()\n",
    "    while True:\n",
    "        try:\n",
    "            order=input(\"What products do you want to buy?(select one at a time) t-shirt, mug, hat, book, keychain. Do you want to stop?\")\n",
    "            if order.lower()== \"yes\":\n",
    "                break\n",
    "            elif order in inventory:\n",
    "                customer_orders.add(order)\n",
    "            else:\n",
    "                print(\"Item not in stock. Please select another item\")\n",
    "        except Exception as e:\n",
    "            print(\"An error occurred:\", e)\n",
    "    return customer_orders"
   ]
  },
  {
   "cell_type": "code",
   "execution_count": 45,
   "id": "0b35ade0-0b1d-4b09-8d67-4b4e626077e6",
   "metadata": {},
   "outputs": [
    {
     "name": "stdin",
     "output_type": "stream",
     "text": [
      "What products do you want to buy?(select one at a time) t-shirt, mug, hat, book, keychain. Do you want to stop? 3\n"
     ]
    },
    {
     "name": "stdout",
     "output_type": "stream",
     "text": [
      "Item not in stock. Please select another item\n"
     ]
    },
    {
     "name": "stdin",
     "output_type": "stream",
     "text": [
      "What products do you want to buy?(select one at a time) t-shirt, mug, hat, book, keychain. Do you want to stop? /\n"
     ]
    },
    {
     "name": "stdout",
     "output_type": "stream",
     "text": [
      "Item not in stock. Please select another item\n"
     ]
    },
    {
     "name": "stdin",
     "output_type": "stream",
     "text": [
      "What products do you want to buy?(select one at a time) t-shirt, mug, hat, book, keychain. Do you want to stop? \n"
     ]
    },
    {
     "name": "stdout",
     "output_type": "stream",
     "text": [
      "Item not in stock. Please select another item\n"
     ]
    },
    {
     "name": "stdin",
     "output_type": "stream",
     "text": [
      "What products do you want to buy?(select one at a time) t-shirt, mug, hat, book, keychain. Do you want to stop? =\n"
     ]
    },
    {
     "name": "stdout",
     "output_type": "stream",
     "text": [
      "Item not in stock. Please select another item\n"
     ]
    },
    {
     "name": "stdin",
     "output_type": "stream",
     "text": [
      "What products do you want to buy?(select one at a time) t-shirt, mug, hat, book, keychain. Do you want to stop? 6\n"
     ]
    },
    {
     "name": "stdout",
     "output_type": "stream",
     "text": [
      "Item not in stock. Please select another item\n"
     ]
    },
    {
     "name": "stdin",
     "output_type": "stream",
     "text": [
      "What products do you want to buy?(select one at a time) t-shirt, mug, hat, book, keychain. Do you want to stop? p\n"
     ]
    },
    {
     "name": "stdout",
     "output_type": "stream",
     "text": [
      "Item not in stock. Please select another item\n"
     ]
    },
    {
     "name": "stdin",
     "output_type": "stream",
     "text": [
      "What products do you want to buy?(select one at a time) t-shirt, mug, hat, book, keychain. Do you want to stop? mug\n",
      "What products do you want to buy?(select one at a time) t-shirt, mug, hat, book, keychain. Do you want to stop? hat\n",
      "What products do you want to buy?(select one at a time) t-shirt, mug, hat, book, keychain. Do you want to stop? yes\n",
      "Enter the price of a mug: 6\n",
      "Enter the price of a hat: 8\n"
     ]
    },
    {
     "name": "stdout",
     "output_type": "stream",
     "text": [
      "Total price is:14.0\n"
     ]
    }
   ],
   "source": [
    "customer_orders=get_customer_orders()\n",
    "price_item,total_price=calculate_total_price(customer_orders)"
   ]
  },
  {
   "cell_type": "code",
   "execution_count": 33,
   "id": "b365f7b5-9127-4b9d-89c8-ccc966b0dad6",
   "metadata": {},
   "outputs": [
    {
     "name": "stdout",
     "output_type": "stream",
     "text": [
      "{'mug': 5.0}\n",
      "5.0\n"
     ]
    }
   ],
   "source": [
    "print(price_item)\n",
    "print(total_price)"
   ]
  },
  {
   "cell_type": "code",
   "execution_count": null,
   "id": "5d25ece5-5241-46c9-af67-17083ad91541",
   "metadata": {},
   "outputs": [],
   "source": []
  }
 ],
 "metadata": {
  "kernelspec": {
   "display_name": "Python 3 (ipykernel)",
   "language": "python",
   "name": "python3"
  },
  "language_info": {
   "codemirror_mode": {
    "name": "ipython",
    "version": 3
   },
   "file_extension": ".py",
   "mimetype": "text/x-python",
   "name": "python",
   "nbconvert_exporter": "python",
   "pygments_lexer": "ipython3",
   "version": "3.11.7"
  }
 },
 "nbformat": 4,
 "nbformat_minor": 5
}
